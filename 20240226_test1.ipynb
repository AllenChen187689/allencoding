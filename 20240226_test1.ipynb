{
  "nbformat": 4,
  "nbformat_minor": 0,
  "metadata": {
    "colab": {
      "provenance": []
    },
    "kernelspec": {
      "name": "python3",
      "display_name": "Python 3"
    },
    "language_info": {
      "name": "python"
    }
  },
  "cells": [
    {
      "cell_type": "code",
      "execution_count": null,
      "metadata": {
        "colab": {
          "base_uri": "https://localhost:8080/"
        },
        "id": "VaM6L-CxeMTE",
        "outputId": "3409454e-34fb-4527-ea05-7e1d71cfd32a"
      },
      "outputs": [
        {
          "output_type": "stream",
          "name": "stdout",
          "text": [
            "Hello World\n"
          ]
        }
      ],
      "source": [
        "x='Hello World'\n",
        "print(x)"
      ]
    },
    {
      "cell_type": "code",
      "source": [
        "x='Hello World******************'\n",
        "print(x)"
      ],
      "metadata": {
        "colab": {
          "base_uri": "https://localhost:8080/"
        },
        "id": "99sKqFW2ecoB",
        "outputId": "501ffc3c-e564-46bb-c838-0b4e7e720502"
      },
      "execution_count": null,
      "outputs": [
        {
          "output_type": "stream",
          "name": "stdout",
          "text": [
            "Hello World******************\n"
          ]
        }
      ]
    },
    {
      "cell_type": "code",
      "source": [
        "x='Hello World!!!!!!!!!!!!!!!!!'\n",
        "print(x)"
      ],
      "metadata": {
        "colab": {
          "base_uri": "https://localhost:8080/"
        },
        "id": "PQMU4yGzfHXp",
        "outputId": "c2136c8e-3d46-4b39-ff33-26e11595ed87"
      },
      "execution_count": null,
      "outputs": [
        {
          "output_type": "stream",
          "name": "stdout",
          "text": [
            "Hello World!!!!!!!!!!!!!!!!!\n"
          ]
        }
      ]
    },
    {
      "cell_type": "code",
      "source": [
        "\n",
        "print('Hello!World')"
      ],
      "metadata": {
        "colab": {
          "base_uri": "https://localhost:8080/"
        },
        "id": "LW7uvQMjfHYa",
        "outputId": "597a5551-54cf-4f79-cda9-ebe91cce405f"
      },
      "execution_count": null,
      "outputs": [
        {
          "output_type": "stream",
          "name": "stdout",
          "text": [
            "Hello!World\n"
          ]
        }
      ]
    },
    {
      "cell_type": "code",
      "source": [
        "print('Hello World!!!!!!!!!!!!!!!!!')"
      ],
      "metadata": {
        "colab": {
          "base_uri": "https://localhost:8080/"
        },
        "id": "zG6qxiZkflEZ",
        "outputId": "36cc85fb-73ae-4bec-b3cc-1b770856a8ee"
      },
      "execution_count": null,
      "outputs": [
        {
          "output_type": "stream",
          "name": "stdout",
          "text": [
            "Hello World!!!!!!!!!!!!!!!!!\n"
          ]
        }
      ]
    }
  ]
}