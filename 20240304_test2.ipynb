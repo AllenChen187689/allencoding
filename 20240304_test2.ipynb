{
  "nbformat": 4,
  "nbformat_minor": 0,
  "metadata": {
    "colab": {
      "provenance": []
    },
    "kernelspec": {
      "name": "python3",
      "display_name": "Python 3"
    },
    "language_info": {
      "name": "python"
    }
  },
  "cells": [
    {
      "cell_type": "code",
      "execution_count": null,
      "metadata": {
        "colab": {
          "base_uri": "https://localhost:8080/"
        },
        "id": "-QupaVXRdpCl",
        "outputId": "f4b3549d-5308-49be-b30f-0400b12ff92a"
      },
      "outputs": [
        {
          "output_type": "stream",
          "name": "stdout",
          "text": [
            "Ans. is = 495\n"
          ]
        }
      ],
      "source": [
        "x=2\n",
        "y=1\n",
        "a=2*x+y\n",
        "b=100-y\n",
        "z=a*b\n",
        "print(\"Ans. is =\", z)"
      ]
    },
    {
      "cell_type": "code",
      "source": [
        "\n",
        "y=4\n",
        "a=100\n",
        "b=2*y+1\n",
        "z=a/b\n",
        "print(\"Ans. is =\", z)"
      ],
      "metadata": {
        "colab": {
          "base_uri": "https://localhost:8080/"
        },
        "id": "1XfBNJXPecNu",
        "outputId": "b531784e-c932-42dd-fde6-8322adc26eb8"
      },
      "execution_count": null,
      "outputs": [
        {
          "output_type": "stream",
          "name": "stdout",
          "text": [
            "Ans. is = 11.11111111111111\n"
          ]
        }
      ]
    }
  ]
}